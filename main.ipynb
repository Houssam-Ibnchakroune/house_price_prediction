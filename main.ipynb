{
 "cells": [
  {
   "cell_type": "code",
   "execution_count": null,
   "id": "695788bc-0ff1-4249-9e94-0a09ac274faf",
   "metadata": {},
   "outputs": [],
   "source": [
    "import matplotlib.pyplot as plt\n",
    "import seaborn as sns\n",
    "from sklearn.preprocessing import StandardScaler\n",
    "from sklearn.model_selection import train_test_split\n",
    "from sklearn.linear_model import LinearRegression\n",
    "from sklearn.metrics import r2_score\n",
    "from sklearn.metrics import mean_squared_error\n",
    "import pandas as pd\n",
    "import numpy as np\n",
    "from sklearn.metrics import mean_absolute_error"
   ]
  },
  {
   "cell_type": "code",
   "execution_count": null,
   "id": "0baface1-4583-4e05-9c11-209e73a461de",
   "metadata": {},
   "outputs": [],
   "source": [
    "df=pd.read_csv(\"housing.csv\")"
   ]
  },
  {
   "cell_type": "code",
   "execution_count": null,
   "id": "820d0efa-c0b7-491d-8c7f-4861de431050",
   "metadata": {},
   "outputs": [],
   "source": [
    "df"
   ]
  },
  {
   "cell_type": "code",
   "execution_count": null,
   "id": "3ce2ed05-85cd-4080-9e9f-265bbb6314ff",
   "metadata": {},
   "outputs": [],
   "source": [
    "df.head()"
   ]
  },
  {
   "cell_type": "code",
   "execution_count": null,
   "id": "5d8e1d23-e484-4773-8d55-a10179b30d81",
   "metadata": {},
   "outputs": [],
   "source": [
    "df.info()"
   ]
  },
  {
   "cell_type": "code",
   "execution_count": null,
   "id": "6a4e9aa1-d693-402c-a5be-78c1539133d2",
   "metadata": {},
   "outputs": [],
   "source": [
    "df.dropna(inplace = True)"
   ]
  },
  {
   "cell_type": "code",
   "execution_count": null,
   "id": "5df59ed8-08c7-430f-8406-1e8f85d32da5",
   "metadata": {},
   "outputs": [],
   "source": [
    "df.info()"
   ]
  },
  {
   "cell_type": "code",
   "execution_count": null,
   "id": "148b17c3-df5f-48a5-83af-69290f72856e",
   "metadata": {},
   "outputs": [],
   "source": [
    "df.isnull().sum()"
   ]
  },
  {
   "cell_type": "code",
   "execution_count": null,
   "id": "cb5a08dd-5bcf-416e-9e34-e7d8c3925780",
   "metadata": {},
   "outputs": [],
   "source": [
    "df['ocean_proximity'].value_counts()"
   ]
  },
  {
   "cell_type": "code",
   "execution_count": null,
   "id": "a53ade49-61d8-4a55-8951-fe0fe767457b",
   "metadata": {},
   "outputs": [],
   "source": [
    "\n",
    "dummy_vars = pd.get_dummies(df.ocean_proximity).astype(int)\n",
    "\n",
    "df = df.join(dummy_vars)"
   ]
  },
  {
   "cell_type": "code",
   "execution_count": null,
   "id": "04806f11-05b9-42cd-91f4-f9563deb9c73",
   "metadata": {},
   "outputs": [],
   "source": [
    "df"
   ]
  },
  {
   "cell_type": "code",
   "execution_count": null,
   "id": "6c0c14c0-caeb-42ab-b509-b3608c7d08b8",
   "metadata": {},
   "outputs": [],
   "source": [
    "df.drop(columns='ocean_proximity', inplace = True)\n",
    "df"
   ]
  },
  {
   "cell_type": "code",
   "execution_count": null,
   "id": "ff41eefc-196e-4c00-b7bd-3c1aa240b05f",
   "metadata": {},
   "outputs": [],
   "source": [
    "df.hist(figsize=(15, 15))"
   ]
  },
  {
   "cell_type": "code",
   "execution_count": null,
   "id": "6e55b788-48d6-4643-a610-dffe995ed51e",
   "metadata": {},
   "outputs": [],
   "source": [
    "df['total_bedrooms']=np.log(df['total_bedrooms']+1)\n",
    "df['total_rooms']=np.log(df['total_rooms']+1)\n",
    "df['population']=np.log(df['population']+1)\n",
    "df['households']=np.log(df['households']+1)"
   ]
  },
  {
   "cell_type": "code",
   "execution_count": null,
   "id": "eebe96d1-ab1c-4742-a906-0db1edd432a3",
   "metadata": {},
   "outputs": [],
   "source": [
    "df"
   ]
  },
  {
   "cell_type": "code",
   "execution_count": null,
   "id": "8712dbda-3aaf-4d26-8614-37c631e25596",
   "metadata": {},
   "outputs": [],
   "source": [
    "df.hist(figsize=(15, 15))"
   ]
  },
  {
   "cell_type": "code",
   "execution_count": null,
   "id": "c8fbe195-2d4f-45ca-9ff8-176e4d87aedb",
   "metadata": {},
   "outputs": [],
   "source": [
    "plt.figure(figsize=(15, 8))\n",
    "sns.heatmap(df.corr(), annot=True)"
   ]
  },
  {
   "cell_type": "code",
   "execution_count": null,
   "id": "508fc533-9490-4894-9dbf-0c060d385d92",
   "metadata": {},
   "outputs": [],
   "source": [
    "X = df.drop(['median_house_value'],axis=1)\n",
    "y = df['median_house_value']\n",
    "X_train,X_test,y_train,y_test = train_test_split(X,y,test_size=0.2,random_state=1)"
   ]
  },
  {
   "cell_type": "code",
   "execution_count": null,
   "id": "4048319c-8dcc-4269-b826-c71f4ec3f290",
   "metadata": {},
   "outputs": [],
   "source": [
    "scaler = StandardScaler()\n",
    "X_train = scaler.fit_transform(X_train)\n",
    "X_test = scaler.transform(X_test)"
   ]
  },
  {
   "cell_type": "code",
   "execution_count": null,
   "id": "428ff8eb-49ac-40a5-b261-9db21cffa39b",
   "metadata": {},
   "outputs": [],
   "source": [
    "reg = LinearRegression()\n",
    "reg.fit(X_train,y_train)"
   ]
  },
  {
   "cell_type": "code",
   "execution_count": null,
   "id": "2ad1b09f-49bd-4e7a-99e1-43e9410fbac1",
   "metadata": {},
   "outputs": [],
   "source": [
    "y_pred = reg.predict(X_test)\n",
    "rmse   = np.sqrt(mean_squared_error(y_test,y_pred))\n",
    "print('Testing Score: ', reg.score(X_test, y_test))\n",
    "mae = mean_absolute_error(y_test, y_pred)\n",
    "print(f'Mean Absolute Error: {mae}')\n",
    "print('RMSE: ',rmse)"
   ]
  },
  {
   "cell_type": "code",
   "execution_count": null,
   "id": "0237ffc4-57c8-4896-9679-e39479a8323c",
   "metadata": {},
   "outputs": [],
   "source": [
    "plt.scatter(y_pred,y_test)"
   ]
  },
  {
   "cell_type": "code",
   "execution_count": null,
   "id": "606fb85b-be2e-4865-89e5-06d8aad80592",
   "metadata": {},
   "outputs": [],
   "source": [
    "#now using random forest\n",
    "from sklearn.ensemble import RandomForestRegressor\n",
    "model = RandomForestRegressor()\n",
    "model.fit(X_train, y_train)\n",
    "y_pred = model.predict(X_test)\n",
    "print('Testing Score: ', model.score(X_test, y_test))\n",
    "r2_score = model.score(X_test, y_test)\n",
    "print(f'R² Score: {r2_score}')\n"
   ]
  },
  {
   "cell_type": "code",
   "execution_count": null,
   "id": "05ad921f-de5f-4e1a-9596-80e1fc3e99be",
   "metadata": {},
   "outputs": [],
   "source": [
    "plt.scatter(y_pred,y_test)"
   ]
  },
  {
   "cell_type": "code",
   "execution_count": null,
   "id": "c3977050-bee3-4674-9b24-f26852f9f6ae",
   "metadata": {},
   "outputs": [],
   "source": []
  }
 ],
 "metadata": {
  "kernelspec": {
   "display_name": "Python 3 (ipykernel)",
   "language": "python",
   "name": "python3"
  },
  "language_info": {
   "codemirror_mode": {
    "name": "ipython",
    "version": 3
   },
   "file_extension": ".py",
   "mimetype": "text/x-python",
   "name": "python",
   "nbconvert_exporter": "python",
   "pygments_lexer": "ipython3",
   "version": "3.11.4"
  }
 },
 "nbformat": 4,
 "nbformat_minor": 5
}
